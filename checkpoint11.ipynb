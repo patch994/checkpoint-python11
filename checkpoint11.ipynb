{
 "cells": [
  {
   "cell_type": "code",
   "execution_count": 1,
   "id": "e624c07a",
   "metadata": {},
   "outputs": [],
   "source": [
    "import tkinter as tk\n",
    "\n",
    "# Function to convert from Celsius to Fahrenheit\n",
    "def celsius_to_fahrenheit():\n",
    "    try:\n",
    "        celsius = float(celsius_entry.get())\n",
    "        fahrenheit = (celsius * 9/5) + 32\n",
    "        result_label.config(text=f\"{celsius:.2f}°C = {fahrenheit:.2f}°F\")\n",
    "    except ValueError:\n",
    "        result_label.config(text=\"Invalid input\")\n",
    "\n",
    "# Function to convert from Fahrenheit to Celsius\n",
    "def fahrenheit_to_celsius():\n",
    "    try:\n",
    "        fahrenheit = float(fahrenheit_entry.get())\n",
    "        celsius = (fahrenheit - 32) * 5/9\n",
    "        result_label.config(text=f\"{fahrenheit:.2f}°F = {celsius:.2f}°C\")\n",
    "    except ValueError:\n",
    "        result_label.config(text=\"Invalid input\")\n",
    "\n",
    "# Create the main window\n",
    "parent = tk.Tk()\n",
    "parent.title(\"Temperature Converter\")\n",
    "\n",
    "# Celsius to Fahrenheit Conversion\n",
    "celsius_label = tk.Label(parent, text=\"Input Celsius:\")\n",
    "celsius_label.grid(row=0, column=0)\n",
    "\n",
    "celsius_entry = tk.Entry(parent)\n",
    "celsius_entry.grid(row=0, column=1)\n",
    "\n",
    "c_to_f_button = tk.Button(parent, text=\"Convert to Fahrenheit\", command=celsius_to_fahrenheit)\n",
    "c_to_f_button.grid(row=0, column=2)\n",
    "\n",
    "# Fahrenheit to Celsius Conversion\n",
    "fahrenheit_label = tk.Label(parent, text=\"Input Fahrenheit:\")\n",
    "fahrenheit_label.grid(row=1, column=0)\n",
    "\n",
    "fahrenheit_entry = tk.Entry(parent)\n",
    "fahrenheit_entry.grid(row=1, column=1)\n",
    "\n",
    "f_to_c_button = tk.Button(parent, text=\"Convert to Celsius\", command=fahrenheit_to_celsius)\n",
    "f_to_c_button.grid(row=1, column=2)\n",
    "\n",
    "# Display the result\n",
    "result_label = tk.Label(parent, text=\"\", font=(\"Helvetica\", 14))\n",
    "result_label.grid(row=2, columnspan=3)\n",
    "\n",
    "# Start the Tkinter event loop\n",
    "parent.mainloop()\n"
   ]
  }
 ],
 "metadata": {
  "kernelspec": {
   "display_name": "Python 3",
   "language": "python",
   "name": "python3"
  },
  "language_info": {
   "codemirror_mode": {
    "name": "ipython",
    "version": 3
   },
   "file_extension": ".py",
   "mimetype": "text/x-python",
   "name": "python",
   "nbconvert_exporter": "python",
   "pygments_lexer": "ipython3",
   "version": "3.13.2"
  }
 },
 "nbformat": 4,
 "nbformat_minor": 5
}
